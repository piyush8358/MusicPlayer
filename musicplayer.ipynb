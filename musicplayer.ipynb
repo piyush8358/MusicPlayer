{
 "cells": [
  {
   "cell_type": "code",
   "execution_count": 1,
   "metadata": {},
   "outputs": [
    {
     "name": "stdout",
     "output_type": "stream",
     "text": [
      "pygame 2.1.2 (SDL 2.0.18, Python 3.9.10)\n",
      "Hello from the pygame community. https://www.pygame.org/contribute.html\n"
     ]
    }
   ],
   "source": [
    "#Name -Piyush Dwivedi \n",
    "#Email id - dwivedipiyush9754@gmail.com\n",
    "\n",
    "#Firstly Need to install pygame & tkinter and some music from anywhere\n",
    "# pip install pygame \n",
    "# pip install tkinter \n",
    "\n",
    "\n",
    "#from ast import Continue\n",
    "#from asyncore import loop\n",
    "#from http.client import CONTINUE\n",
    "#import queue\n",
    "#from turtle import up\n",
    "#from black import Changed\n",
    "#from cv2 import add\n",
    "\n",
    "\n",
    "import pygame\n",
    "import tkinter as tkr\n",
    "from tkinter.filedialog import askdirectory\n",
    "import os\n",
    "\n",
    "from zmq import QUEUE\n",
    "\n",
    "music_player = tkr.Tk()\n",
    "music_player.title(\"Music Player-By Piyush\")\n",
    "music_player.geometry(\"450x350\")\n",
    "directory = askdirectory()\n",
    "os.chdir(directory)\n",
    "song_list = os.listdir()\n",
    "\n",
    "play_list = tkr.Listbox(music_player, font=\"Helvetica 12 bold\", bg='brown', selectmode=tkr.SINGLE)\n",
    "for item in song_list:\n",
    "    pos = 0\n",
    "    play_list.insert(pos, item)\n",
    "    pos += 1\n",
    "pygame.init()\n",
    "pygame.mixer.init()\n",
    "\n",
    "def play():\n",
    "    pygame.mixer.music.load(play_list.get(tkr.ACTIVE))\n",
    "    var.set(play_list.get(tkr.ACTIVE))\n",
    "    pygame.mixer.music.play()\n",
    "def stop():\n",
    "    pygame.mixer.music.stop()\n",
    "def pause():\n",
    "    pygame.mixer.music.pause()\n",
    "def unpause():\n",
    "    pygame.mixer.music.unpause()\n",
    "\n",
    "Button1 = tkr.Button(music_player, width=5, height=3, font=\"Helvetica 12 bold\", text=\"PLAY\", command=play, bg=\"blue\", fg=\"white\")\n",
    "Button2 = tkr.Button(music_player, width=5, height=3, font=\"Helvetica 12 bold\", text=\"STOP\", command=stop, bg=\"red\", fg=\"white\")\n",
    "Button3 = tkr.Button(music_player, width=5, height=3, font=\"Helvetica 12 bold\", text=\"PAUSE\", command=pause, bg=\"purple\", fg=\"white\")\n",
    "Button4 = tkr.Button(music_player, width=5, height=3, font=\"Helvetica 12 bold\", text=\"RESUME\", command=unpause, bg=\"orange\", fg=\"white\")\n",
    "\n",
    "\n",
    "var = tkr.StringVar() \n",
    "song_title = tkr.Label(music_player, font=\"Helvetica 12 bold\", textvariable=var)\n",
    "\n",
    "song_title.pack()\n",
    "Button1.pack(fill=\"x\")\n",
    "Button2.pack(fill=\"x\")\n",
    "Button3.pack(fill=\"x\")\n",
    "Button4.pack(fill=\"x\")\n",
    "\n",
    "play_list.pack(fill=\"both\", expand=\"yes\")\n",
    "music_player.mainloop()\n",
    "\n",
    "\n",
    "\n",
    "#Name -Piyush Dwivedi \n",
    "#Email id - dwivedipiyush9754@gmail.com"
   ]
  }
 ],
 "metadata": {
  "interpreter": {
   "hash": "12fc8aae25c3c3d0a9d3679ad87261885be3559659740cdc323d977a38fe3ef2"
  },
  "kernelspec": {
   "display_name": "Python 3.9.10 64-bit",
   "language": "python",
   "name": "python3"
  },
  "language_info": {
   "codemirror_mode": {
    "name": "ipython",
    "version": 3
   },
   "file_extension": ".py",
   "mimetype": "text/x-python",
   "name": "python",
   "nbconvert_exporter": "python",
   "pygments_lexer": "ipython3",
   "version": "3.9.10"
  },
  "orig_nbformat": 4
 },
 "nbformat": 4,
 "nbformat_minor": 2
}
